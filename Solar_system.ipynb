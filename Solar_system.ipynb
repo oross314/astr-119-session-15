{
 "cells": [
  {
   "cell_type": "markdown",
   "metadata": {},
   "source": [
    "## Create a simple solar system model"
   ]
  },
  {
   "cell_type": "code",
   "execution_count": 2,
   "metadata": {},
   "outputs": [],
   "source": [
    "%matplotlib inline\n",
    "import numpy as np\n",
    "import matplotlib.pyplot as plt"
   ]
  },
  {
   "cell_type": "code",
   "execution_count": 4,
   "metadata": {},
   "outputs": [],
   "source": [
    "class planet():\n",
    "    \"a planet in our solar system\"\n",
    "    def __init__(self, semimajor, eccentricity):\n",
    "        self.x=np.zeros(2) #x and y position\n",
    "        self.v=np.zeros(2) #x and y velocity\n",
    "        self.a_g=np.zeros(2) #x and y accelaration\n",
    "        self.t=0.0 #current time\n",
    "        self.dt=0.0 #current timestep\n",
    "        self.a=semimajor #semimajor axis of the orbit\n",
    "        self.e=eccentricity #eccentricity integer timestep1\n",
    "        self.istep=0 #current integer timestep1\n",
    "        self.name=\"\" #name for the planet"
   ]
  },
  {
   "cell_type": "markdown",
   "metadata": {},
   "source": [
    "## Define a dictionary with some constants"
   ]
  },
  {
   "cell_type": "code",
   "execution_count": 5,
   "metadata": {},
   "outputs": [],
   "source": [
    "solar_system={\"M_sun\":1.0, \"G\":39.4784176043574320}"
   ]
  },
  {
   "cell_type": "markdown",
   "metadata": {},
   "source": [
    "## Define some functions for setting circular velocity and acceleration"
   ]
  },
  {
   "cell_type": "code",
   "execution_count": 8,
   "metadata": {},
   "outputs": [],
   "source": [
    "def SolarCircularVelocity(p):\n",
    "    G=solar_system[\"G\"]\n",
    "    M=solar_system[\"M_sun\"]\n",
    "    r=(p.x[0]**2+p.x[1]**2)**.5\n",
    "    \n",
    "    #return the circular velocity\n",
    "    return (G*M/r)**.5"
   ]
  },
  {
   "cell_type": "markdown",
   "metadata": {},
   "source": [
    "## Define a function to compute the gravitational accerlation on each planet from the sun"
   ]
  },
  {
   "cell_type": "code",
   "execution_count": 9,
   "metadata": {},
   "outputs": [],
   "source": [
    "def SolarGravitationalAcceleration(p):\n",
    "    \n",
    "    G=solar_system[\"G\"]\n",
    "    M=solar_system[\"M_sun\"]\n",
    "    r=(p.x[0]**2+p.x[1]**2)**.5\n",
    "    \n",
    "    #accelaration in AU/yr/yr\n",
    "    a_grav=-1.0*G*M/r**2\n",
    "    \n",
    "    #find the angle at this position\n",
    "    if(p.x[0]==0.0):\n",
    "        if(p.x[1]>0.0):\n",
    "            theta=.5*np.pi\n",
    "        else:\n",
    "            theta=1.5*np.pi\n",
    "    else:theta=np.arctan2(p.x[1],p.x[0])\n",
    "        \n",
    "    #set the x and y components of the velocity\n",
    "    #p.a_g[0]=a_grav*np.cos(theta)\n",
    "    #p.a_g[1]=a_Grav*np.sin(theta)\n",
    "    return a_grav*np.cos(theta), a_grav*np.sin(theta)"
   ]
  },
  {
   "cell_type": "markdown",
   "metadata": {},
   "source": [
    "## Compute the Timestep"
   ]
  },
  {
   "cell_type": "code",
   "execution_count": 11,
   "metadata": {},
   "outputs": [],
   "source": [
    "def calc_dt(p):\n",
    "    #integration tolerance\n",
    "    ETA_TIME_STEP=.0004\n",
    "    \n",
    "    #compute the timestep\n",
    "    eta=ETA_TIME_STEP\n",
    "    v= (p.v[0]**2+p.v[1]**2)**.5\n",
    "    a=(p.a_g[0]**2+p.a_g[1]**2)**.5\n",
    "    dt=eta*np.fmin(1.0/np.fabs(v),1.0/np.fabs(a)**.5)\n",
    "    \n",
    "    return dt"
   ]
  },
  {
   "cell_type": "code",
   "execution_count": 12,
   "metadata": {},
   "outputs": [],
   "source": [
    "def SetPlanet(p,i):\n",
    "    AU_in_km=1.495979e+8\n",
    "    #circular velocity\n",
    "    v_c=0.0#circular velocity in AU/yr\n",
    "    v_e=0.0 #velocity at perihelion in AU/yr\n",
    "    \n",
    "    #planet by planet initial conditions\n",
    "    \n",
    "    #Mercury\n",
    "    if(i==0):\n",
    "        #semi major axis in AU\n",
    "        p.a=57909227.0/AU_in_km\n",
    "        \n",
    "        #eccentricity\n",
    "        p.e=.20563593\n",
    "        \n",
    "        #name\n",
    "        p.name=\"Mercury\"\n",
    "    #venus\n",
    "    elif(i==1):\n",
    "        #semi-major axis in AU\n",
    "        p.a=108209475.0/AU-in_km\n",
    "        \n",
    "        #eccentricity\n",
    "        p.e=.00677672\n",
    "        p.name=\"Venus\"\n",
    "    elif(i==2):\n",
    "        p.a=1.0\n",
    "        #eccentricity\n",
    "        p.e=.01671123\n",
    "        p.name=\"Earth\"\n",
    "        \n",
    "    #set remaining properties\n",
    "    p.t=0.0\n",
    "    p.x[0]=p.a*(1.0-p.e)\n",
    "    p.x[1]=0.0\n",
    "    \n",
    "    #get equiv circular velocity\n",
    "    v_c=SolarCircularVelocity(p)\n",
    "    \n",
    "    #velocity at perihelion\n",
    "    v_c=v_c*(1+p.e)**.5\n",
    "    \n",
    "    #set velocity\n",
    "    p.v[0]=0.0 #no x velocity at perihelion\n",
    "    p.v[1]=v_e #y velocity at perihelion (counterclockwise)\n",
    "    \n",
    "    #calculate gravitational accelaration form sun\n",
    "    p.a_g=SolarGravitationalAcceleration(p)\n",
    "    \n",
    "    #set timestep\n",
    "    p.dt=calc_dt(p)"
   ]
  },
  {
   "cell_type": "code",
   "execution_count": null,
   "metadata": {},
   "outputs": [],
   "source": []
  }
 ],
 "metadata": {
  "kernelspec": {
   "display_name": "Python 3",
   "language": "python",
   "name": "python3"
  },
  "language_info": {
   "codemirror_mode": {
    "name": "ipython",
    "version": 3
   },
   "file_extension": ".py",
   "mimetype": "text/x-python",
   "name": "python",
   "nbconvert_exporter": "python",
   "pygments_lexer": "ipython3",
   "version": "3.6.5"
  }
 },
 "nbformat": 4,
 "nbformat_minor": 2
}
